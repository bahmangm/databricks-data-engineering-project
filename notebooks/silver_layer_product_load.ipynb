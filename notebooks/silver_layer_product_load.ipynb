{
 "cells": [
  {
   "cell_type": "code",
   "execution_count": 0,
   "metadata": {
    "application/vnd.databricks.v1+cell": {
     "cellMetadata": {
      "byteLimit": 2048000,
      "implicitDf": true,
      "rowLimit": 10000
     },
     "inputWidgets": {},
     "nuid": "cdc0eb0f-eec4-4ac1-a001-9840623b84bc",
     "showTitle": false,
     "tableResultSettingsMap": {},
     "title": ""
    }
   },
   "outputs": [],
   "source": [
    "%sql\n",
    "show databases"
   ]
  },
  {
   "cell_type": "code",
   "execution_count": 0,
   "metadata": {
    "application/vnd.databricks.v1+cell": {
     "cellMetadata": {
      "byteLimit": 2048000,
      "rowLimit": 10000
     },
     "inputWidgets": {},
     "nuid": "ceef99d3-2f3f-40d3-a816-c5148b7947a7",
     "showTitle": false,
     "tableResultSettingsMap": {},
     "title": ""
    }
   },
   "outputs": [],
   "source": [
    "spark.sql(\"use globalretail_silver\")\n",
    "\n",
    "spark.sql(\"\"\"\n",
    "CREATE TABLE IF NOT EXISTS silver_products (\n",
    "    product_id STRING,\n",
    "    name STRING,\n",
    "    category STRING,\n",
    "    brand STRING,\n",
    "    price DOUBLE,\n",
    "    stock_quantity INT,\n",
    "    rating DOUBLE,\n",
    "    is_active BOOLEAN,\n",
    "    price_category STRING,\n",
    "    stock_status STRING,\n",
    "    last_updated TIMESTAMP\n",
    ")\n",
    "USING DELTA\n",
    "\"\"\")"
   ]
  },
  {
   "cell_type": "code",
   "execution_count": 0,
   "metadata": {
    "application/vnd.databricks.v1+cell": {
     "cellMetadata": {
      "byteLimit": 2048000,
      "implicitDf": true,
      "rowLimit": 10000
     },
     "inputWidgets": {},
     "nuid": "f2243072-6d54-4dd2-a142-d64271b6591c",
     "showTitle": false,
     "tableResultSettingsMap": {},
     "title": ""
    }
   },
   "outputs": [],
   "source": [
    "%sql\n",
    "show tables from globalretail_silver"
   ]
  },
  {
   "cell_type": "code",
   "execution_count": 0,
   "metadata": {
    "application/vnd.databricks.v1+cell": {
     "cellMetadata": {
      "byteLimit": 2048000,
      "rowLimit": 10000
     },
     "inputWidgets": {},
     "nuid": "3df2e644-4918-4ed7-87f6-c146f3f4e762",
     "showTitle": false,
     "tableResultSettingsMap": {},
     "title": ""
    }
   },
   "outputs": [],
   "source": [
    "# Get the last processed timestamp from silver layer\n",
    "last_processed_df = spark.sql(\"select max(last_updated) as last_processed from silver_products\")\n",
    "last_processed_timestamp = last_processed_df.collect()[0]['last_processed']\n",
    "\n",
    "if last_processed_timestamp is None:\n",
    "    last_processed_timestamp = '1900-01-01'"
   ]
  },
  {
   "cell_type": "code",
   "execution_count": 0,
   "metadata": {
    "application/vnd.databricks.v1+cell": {
     "cellMetadata": {
      "byteLimit": 2048000,
      "rowLimit": 10000
     },
     "inputWidgets": {},
     "nuid": "ffacb4f5-1f9e-4e9f-8ac0-39183b6eba64",
     "showTitle": false,
     "tableResultSettingsMap": {},
     "title": ""
    }
   },
   "outputs": [],
   "source": [
    "# Create a temporary view of incremental bronze data\n",
    "spark.sql(f\"\"\"\n",
    "          CREATE OR REPLACE TEMPORARY VIEW bronze_incremental_products AS\n",
    "          SELECT * FROM globalretail_bronze.bronze_products WHERE ingestion_timestamp > '{last_processed_timestamp}'\n",
    "          \"\"\")\n"
   ]
  },
  {
   "cell_type": "code",
   "execution_count": 0,
   "metadata": {
    "application/vnd.databricks.v1+cell": {
     "cellMetadata": {
      "byteLimit": 2048000,
      "implicitDf": true,
      "rowLimit": 10000
     },
     "inputWidgets": {},
     "nuid": "f4a7344e-ad4c-4ffb-aca2-c0eac513fd89",
     "showTitle": false,
     "tableResultSettingsMap": {},
     "title": ""
    }
   },
   "outputs": [],
   "source": [
    "# Price normalization (setting negative prices to 0)\n",
    "# Stock quantity normalization (setting negative stock to 0)\n",
    "# Rating normalization (clamping between 0 and 5)\n",
    "# Price categorization (Premium, Standard, Budget)\n",
    "# Stock status calculation (Out of Stock, Low Stock, Moderate Stock, Sufficient Stock)\n",
    "\n",
    "spark.sql(\"\"\"\n",
    "CREATE OR REPLACE TEMPORARY VIEW silver_incremental_products AS\n",
    "SELECT\n",
    "    product_id,\n",
    "    name,\n",
    "    category,\n",
    "    brand,\n",
    "    CASE\n",
    "        WHEN price < 0 THEN 0\n",
    "        ELSE price\n",
    "    END AS price,\n",
    "    CASE\n",
    "        WHEN stock_quantity < 0 THEN 0\n",
    "        ELSE stock_quantity\n",
    "    END AS stock_quantity,\n",
    "    CASE\n",
    "        WHEN rating < 0 THEN 0\n",
    "        WHEN rating > 5 THEN 5\n",
    "        ELSE rating\n",
    "    END AS rating,\n",
    "    is_active,\n",
    "    CASE\n",
    "        WHEN price > 1000 THEN 'Premium'\n",
    "        WHEN price > 100 THEN 'Standard'\n",
    "        ELSE 'Budget'\n",
    "    END AS price_category,\n",
    "    CASE\n",
    "        WHEN stock_quantity = 0 THEN 'Out of Stock'\n",
    "        WHEN stock_quantity < 10 THEN 'Low Stock'\n",
    "        WHEN stock_quantity < 50 THEN 'Moderate Stock'\n",
    "        ELSE 'Sufficient Stock'\n",
    "    END AS stock_status,\n",
    "    CURRENT_TIMESTAMP() AS last_updated\n",
    "FROM bronze_incremental_products\n",
    "WHERE name IS NOT NULL AND category IS NOT NULL\n",
    "\"\"\")"
   ]
  },
  {
   "cell_type": "code",
   "execution_count": 0,
   "metadata": {
    "application/vnd.databricks.v1+cell": {
     "cellMetadata": {
      "byteLimit": 2048000,
      "implicitDf": true,
      "rowLimit": 10000
     },
     "inputWidgets": {},
     "nuid": "f125c530-790c-4179-9c9d-c60397fc6373",
     "showTitle": false,
     "tableResultSettingsMap": {},
     "title": ""
    }
   },
   "outputs": [],
   "source": [
    "spark.sql(\"\"\"\n",
    "MERGE INTO silver_products target\n",
    "USING silver_incremental_products source\n",
    "ON target.product_id = source.product_id\n",
    "WHEN MATCHED THEN\n",
    "    UPDATE SET *\n",
    "WHEN NOT MATCHED THEN\n",
    "    INSERT *\n",
    "\"\"\")"
   ]
  },
  {
   "cell_type": "code",
   "execution_count": 0,
   "metadata": {
    "application/vnd.databricks.v1+cell": {
     "cellMetadata": {
      "byteLimit": 2048000,
      "rowLimit": 10000
     },
     "inputWidgets": {},
     "nuid": "17198ccd-ee22-4b16-85c4-159f549d0c09",
     "showTitle": false,
     "tableResultSettingsMap": {},
     "title": ""
    }
   },
   "outputs": [],
   "source": [
    "display(spark.sql(\"select * from silver_products\"))"
   ]
  }
 ],
 "metadata": {
  "application/vnd.databricks.v1+notebook": {
   "computePreferences": null,
   "dashboards": [],
   "environmentMetadata": {
    "base_environment": "",
    "environment_version": "2"
   },
   "inputWidgetPreferences": null,
   "language": "python",
   "notebookMetadata": {
    "mostRecentlyExecutedCommandWithImplicitDF": {
     "commandId": -1,
     "dataframes": [
      "_sqldf"
     ]
    },
    "pythonIndentUnit": 4
   },
   "notebookName": "silver_layer_product_load",
   "widgets": {}
  },
  "language_info": {
   "name": "python"
  }
 },
 "nbformat": 4,
 "nbformat_minor": 0
}